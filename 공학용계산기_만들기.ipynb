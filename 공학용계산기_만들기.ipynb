{
  "nbformat": 4,
  "nbformat_minor": 0,
  "metadata": {
    "colab": {
      "provenance": [],
      "authorship_tag": "ABX9TyPWP/Ag7KSpwK8iuMbsIuW/",
      "include_colab_link": true
    },
    "kernelspec": {
      "name": "python3",
      "display_name": "Python 3"
    },
    "language_info": {
      "name": "python"
    }
  },
  "cells": [
    {
      "cell_type": "markdown",
      "metadata": {
        "id": "view-in-github",
        "colab_type": "text"
      },
      "source": [
        "<a href=\"https://colab.research.google.com/github/dau-J/2025-oss/blob/main/%EA%B3%B5%ED%95%99%EC%9A%A9%EA%B3%84%EC%82%B0%EA%B8%B0_%EB%A7%8C%EB%93%A4%EA%B8%B0.ipynb\" target=\"_parent\"><img src=\"https://colab.research.google.com/assets/colab-badge.svg\" alt=\"Open In Colab\"/></a>"
      ]
    },
    {
      "cell_type": "code",
      "execution_count": 18,
      "metadata": {
        "id": "jkI2sPjpBl0o"
      },
      "outputs": [],
      "source": []
    },
    {
      "cell_type": "markdown",
      "source": [
        "## 공학용 계산기 개발의 필요성\n",
        "본 프로젝트는 많은 학생들이 공학용 계산기를 구매해야하는 문제를 해결하기 위해 만들었습니다\n",
        "ex) $x^6$ 을 개발하는게 어렵습니다."
      ],
      "metadata": {
        "id": "vysTGrArE2Aw"
      }
    },
    {
      "cell_type": "markdown",
      "source": [
        "# 초기값 입력\n",
        "계산을 원하는 값을 설정해주세요"
      ],
      "metadata": {
        "id": "kdZeNvxRI3ZP"
      }
    },
    {
      "cell_type": "code",
      "source": [
        "slider_value = 142  # @param {type: \"slider\", min: 100, max: 200}\n",
        "x = 300  # @param {type: \"number\"}\n",
        "y = 200  # @param {type: \"number\"}\n",
        "date = '2010-11-05'  # @param {type: \"date\"}\n",
        "pick_me = \"monday\"  # @param ['monday', 'tuesday', 'wednesday', 'thursday']\n",
        "select_or_input = \"apples\" # @param [\"apples\", \"bananas\", \"oranges\"] {allow-input: true}"
      ],
      "metadata": {
        "id": "7QWNebnGI7k1"
      },
      "execution_count": 19,
      "outputs": []
    },
    {
      "cell_type": "markdown",
      "source": [
        "# 지수값 구하기"
      ],
      "metadata": {
        "id": "A5x-OTp9FnMh"
      }
    },
    {
      "cell_type": "code",
      "source": [
        "x = 2\n",
        "\n",
        "x6 = x*x*x*x*x*x\n",
        "x6\n",
        "\n",
        "if x6 > 2000000:\n",
        "  print(\"너무 큰수를 입력하셨습니다.\")"
      ],
      "metadata": {
        "id": "akhUPMuEGUt9"
      },
      "execution_count": 20,
      "outputs": []
    },
    {
      "cell_type": "code",
      "source": [
        "x6"
      ],
      "metadata": {
        "colab": {
          "base_uri": "https://localhost:8080/"
        },
        "id": "fKrv2xPMJbJj",
        "outputId": "7f1389bf-4228-4221-8011-94bb92b13aeb"
      },
      "execution_count": 21,
      "outputs": [
        {
          "output_type": "execute_result",
          "data": {
            "text/plain": [
              "64"
            ]
          },
          "metadata": {},
          "execution_count": 21
        }
      ]
    },
    {
      "cell_type": "code",
      "source": [],
      "metadata": {
        "id": "49G8VpapJa6k"
      },
      "execution_count": 21,
      "outputs": []
    }
  ]
}